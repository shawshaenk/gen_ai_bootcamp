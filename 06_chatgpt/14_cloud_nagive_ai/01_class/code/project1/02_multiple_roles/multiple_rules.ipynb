{
 "cells": [
  {
   "cell_type": "markdown",
   "metadata": {},
   "source": [
    "# Making an API request"
   ]
  },
  {
   "cell_type": "code",
   "execution_count": 1,
   "metadata": {},
   "outputs": [],
   "source": [
    "from openai import OpenAI\n",
    "from dotenv import load_dotenv, find_dotenv\n",
    "\n",
    "_ : bool = load_dotenv(find_dotenv()) # read local .env file\n",
    "\n",
    "client : OpenAI = OpenAI()\n",
    "\n"
   ]
  },
  {
   "cell_type": "code",
   "execution_count": 2,
   "metadata": {},
   "outputs": [
    {
     "name": "stdout",
     "output_type": "stream",
     "text": [
      "In the realm of code, there lies a function bold,\n",
      "That calls itself, a tale oft retold,\n",
      "Recursion, a journey through the looking glass,\n",
      "A loop of self-reference, a dance of the brass.\n",
      "\n",
      "A function, once called, sets in motion a chain,\n",
      "A mystic dance of code, like drops of rain,\n",
      "It calls itself again, a cycle unbroken,\n",
      "An elegant pattern, a spell softly spoken.\n",
      "\n",
      "Like a mirror reflecting its own image clear,\n",
      "Recursion looks back upon itself, my dear,\n",
      "Through layers of repetition, it travels profound,\n",
      "Unraveling mysteries, in code it is found.\n",
      "\n",
      "From Fibonacci to traversing trees so tall,\n",
      "Recursion weaves patterns, looms both big and small,\n",
      "A self-referential dream, a loop that enchants,\n",
      "In the world of programming, its elegance enhances.\n",
      "\n",
      "So, let your functions call themselves with grace,\n",
      "Let recursion unfold, in its magical embrace,\n",
      "For in every loop, and in every call,\n",
      "The spirit of recursion echoes through, enthralling all.\n"
     ]
    }
   ],
   "source": [
    "from openai.types.chat.chat_completion import ChatCompletion\n",
    "\n",
    "def chat_completion()->str:\n",
    "  completion : ChatCompletion = client.chat.completions.create(\n",
    "    model  = \"gpt-3.5-turbo-1106\",\n",
    "    messages= [\n",
    "      {\"role\": \"system\", \"content\": \"You are a poetic assistant, skilled in explaining complex programming concepts with creative flair.\"},\n",
    "      {\"role\": \"user\", \"content\": \"Compose a poem that explains the concept of recursion in programming.\"}\n",
    "    ]\n",
    "  )\n",
    "\n",
    "  return completion.choices[0].message.content\n",
    "\n",
    "print(chat_completion())"
   ]
  },
  {
   "cell_type": "code",
   "execution_count": null,
   "metadata": {},
   "outputs": [],
   "source": []
  }
 ],
 "metadata": {
  "kernelspec": {
   "display_name": "Python 3 (ipykernel)",
   "language": "python",
   "name": "python3"
  },
  "language_info": {
   "codemirror_mode": {
    "name": "ipython",
    "version": 3
   },
   "file_extension": ".py",
   "mimetype": "text/x-python",
   "name": "python",
   "nbconvert_exporter": "python",
   "pygments_lexer": "ipython3",
   "version": "3.11.6"
  }
 },
 "nbformat": 4,
 "nbformat_minor": 4
}
