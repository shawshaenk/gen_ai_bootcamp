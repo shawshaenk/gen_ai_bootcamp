{
 "cells": [
  {
   "cell_type": "code",
   "execution_count": 1,
   "metadata": {},
   "outputs": [
    {
     "data": {
      "text/plain": [
       "True"
      ]
     },
     "execution_count": 1,
     "metadata": {},
     "output_type": "execute_result"
    }
   ],
   "source": [
    "from dotenv import load_dotenv, find_dotenv\n",
    "\n",
    "_ : bool = load_dotenv(find_dotenv()) # read local .env file\n",
    "\n",
    "_ "
   ]
  },
  {
   "cell_type": "code",
   "execution_count": 2,
   "metadata": {},
   "outputs": [
    {
     "name": "stdout",
     "output_type": "stream",
     "text": [
      "\n",
      "This\n",
      " is\n",
      " a\n",
      " test\n",
      ".\n",
      "\n"
     ]
    }
   ],
   "source": [
    "from openai import OpenAI\n",
    "\n",
    "client = OpenAI()\n",
    "\n",
    "stream = client.chat.completions.create(\n",
    "    model=\"gpt-3.5-turbo-1106\",\n",
    "    messages=[{\"role\": \"user\", \"content\": \"Say this is a test\"}],\n",
    "    stream=True,\n",
    ")\n",
    "for part in stream:\n",
    "    print(part.choices[0].delta.content or \"\")"
   ]
  },
  {
   "cell_type": "code",
   "execution_count": 5,
   "metadata": {},
   "outputs": [
    {
     "name": "stdout",
     "output_type": "stream",
     "text": [
      "...In... the... realm... of... code...,... there... lies... a... loop... profound...,\n",
      "...A... concept... so... recursive...,... it... knows... no... bound....\n",
      "...With... elegance... and... grace...,... it... calls... itself... again...,\n",
      "...Like... a... cycle... of... creation...,... an... endless... domain....\n",
      "\n",
      "...In... the... heart... of... a... function...,... it...'s... called... once... more...,\n",
      "...A... shape...-sh...ifting... dance...,... unlike... any... seen... before....\n",
      "...A... call... that... echoes... within...,... like... a... whisper...ing... breeze...,\n",
      "...Un...r...avel...ing... mysteries...,... unlocking... the... keys....\n",
      "\n",
      "...Like... a... mirror... reflecting... its... image... in... light...,\n",
      "...Rec...ursion... looks... back...,... creating... a... w...ondrous... sight....\n",
      "...Un...f...olding... layers... of... thought...,... like... a... tale... unt...old...,\n",
      "...Re...peating...,... ret...reating...,... a... story... to... behold....\n",
      "\n",
      "...Like... a... spiral... staircase... that... climbs... to... the... sky...,\n",
      "...Rec...ursion... asc...ends...,... reaching... far... and... high....\n",
      "...A... self...-re...fer...ential... journey...,... it... never... does... tire...,\n",
      "...Un...r...avel...ing... en...ig...mas...,... ign...iting... the... fire....\n",
      "\n",
      "...So... cherish... this... concept...,... both... simple... and... profound...,\n",
      "...In... the... world... of... programming...,... where... wonders... abound....\n",
      "...A... dance... of... repetition...,... a... never...-ending... show...,\n",
      "...Rec...ursion...,... a... marvel...,... that... continues... to... grow.........."
     ]
    }
   ],
   "source": [
    "from openai import OpenAI\n",
    "\n",
    "client = OpenAI()\n",
    "\n",
    "stream = client.chat.completions.create(\n",
    "    model=\"gpt-3.5-turbo-1106\",\n",
    "    messages=[{\"role\": \"system\", \"content\": \"You are a poetic assistant, skilled in explaining complex programming concepts with creative flair.\"},\n",
    "      {\"role\": \"user\", \"content\": \"Compose a poem that explains the concept of recursion in programming.\"}],\n",
    "    stream=True,\n",
    ")\n",
    "for part in stream:\n",
    "    print(part.choices[0].delta.content or \"\", end=\"...\")"
   ]
  },
  {
   "cell_type": "code",
   "execution_count": null,
   "metadata": {},
   "outputs": [],
   "source": []
  }
 ],
 "metadata": {
  "kernelspec": {
   "display_name": "Python 3 (ipykernel)",
   "language": "python",
   "name": "python3"
  },
  "language_info": {
   "codemirror_mode": {
    "name": "ipython",
    "version": 3
   },
   "file_extension": ".py",
   "mimetype": "text/x-python",
   "name": "python",
   "nbconvert_exporter": "python",
   "pygments_lexer": "ipython3",
   "version": "3.11.6"
  }
 },
 "nbformat": 4,
 "nbformat_minor": 4
}
